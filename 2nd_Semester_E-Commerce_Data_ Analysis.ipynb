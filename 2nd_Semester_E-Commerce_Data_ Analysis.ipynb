{
 "cells": [
  {
   "cell_type": "code",
   "execution_count": 11,
   "metadata": {},
   "outputs": [],
   "source": [
    "import pymongo\n",
    "import pprint\n",
    "import random\n",
    "from names_generator import generate_name\n",
    "from bson.objectid import ObjectId\n",
    "from datetime import datetime, timedelta\n",
    "from pymongo import MongoClient"
   ]
  },
  {
   "cell_type": "code",
   "execution_count": 12,
   "metadata": {},
   "outputs": [],
   "source": [
    "pp = pprint.PrettyPrinter(indent=2)\n",
    "#helper function to print\n",
    "def print_results(cursor):\n",
    "    for doc in cursor:\n",
    "        pp.pprint(doc)"
   ]
  },
  {
   "cell_type": "code",
   "execution_count": 3,
   "metadata": {},
   "outputs": [],
   "source": [
    "try:\n",
    "    uri = \"mongodb://localhost:27017/\"\n",
    "    client = MongoClient(uri)\n",
    "    db = client[\"BuyNow\"]\n",
    "    # client.close()\n",
    "except Exception as e:\n",
    "    raise Exception(\n",
    "        \"The following error occurred: \", e) "
   ]
  },
  {
   "cell_type": "code",
   "execution_count": 14,
   "metadata": {},
   "outputs": [],
   "source": [
    "customers = db[\"customers\"]\n",
    "orders = db[\"orders\"]\n",
    "products = db[\"products\"]\n",
    "order_items = db[\"order_items\"]"
   ]
  },
  {
   "cell_type": "code",
   "execution_count": 21,
   "metadata": {},
   "outputs": [],
   "source": [
    "# Insert multiple documents\n",
    "def insert_many_users(user_list):\n",
    "    try:\n",
    "        result = customers.insert_many(user_list)\n",
    "        return result.inserted_ids\n",
    "    except Exception as e:\n",
    "        print(f\"Error inserting documents: {e}\")\n",
    "        return None"
   ]
  },
  {
   "cell_type": "code",
   "execution_count": 22,
   "metadata": {},
   "outputs": [],
   "source": [
    "sample_customers = []"
   ]
  },
  {
   "cell_type": "code",
   "execution_count": 23,
   "metadata": {},
   "outputs": [],
   "source": [
    "for i in range(20):  # Adding 20 sample customers\n",
    "    customers = {\n",
    "        \"name\": generate_name(style='capital'),\n",
    "        \"contact\": {\n",
    "            \"email\": f\"customers{i}@email.com\",\n",
    "            \"phone\": f\"{random.randint(100,999)}-{random.randint(100,999)}-{random.randint(1000,9999)}\",\n",
    "            \"address\": {\n",
    "                \"city\": random.choice([\"Lagos\", \"Abuja\", \"Ibadan\", \"Port Harcourt\", \"Kano\", \"Benin City\", \"Calabar\", \"Kaduna\", \"Enugu\", \"Owerri\", \"Abeokuta\", \"Oyo\", \"Uyo\", \"Warri\", \"Jos\"]),\n",
    "                \"state\": random.choice([\"Lagos\", \"FCT\", \"Oyo\", \"Rivers\", \"Kano\", \"Edo\", \"Cross River\", \"Kaduna\", \"Enugu\", \"Imo\", \"Ogun\", \"Oyo\", \"Akwa Ibom\", \"Delta\", \"Plateau\"])\n",
    "            }\n",
    "        }}\n",
    "    sample_customers.append(customers)"
   ]
  },
  {
   "cell_type": "code",
   "execution_count": 24,
   "metadata": {},
   "outputs": [
    {
     "data": {
      "text/plain": [
       "20"
      ]
     },
     "execution_count": 24,
     "metadata": {},
     "output_type": "execute_result"
    }
   ],
   "source": [
    "len(sample_customers)"
   ]
  },
  {
   "cell_type": "code",
   "execution_count": 26,
   "metadata": {},
   "outputs": [
    {
     "name": "stdout",
     "output_type": "stream",
     "text": [
      "Error inserting documents: 'dict' object has no attribute 'insert_many'\n"
     ]
    }
   ],
   "source": [
    "result = insert_many_users(sample_customers)"
   ]
  },
  {
   "cell_type": "code",
   "execution_count": 28,
   "metadata": {},
   "outputs": [],
   "source": [
    "# Insert multiple documents\n",
    "def insert_many_users(user_list):\n",
    "    try:\n",
    "        result = orders.insert_many(user_list)\n",
    "        return result.inserted_ids\n",
    "    except Exception as e:\n",
    "        print(f\"Error inserting documents: {e}\")\n",
    "        return None"
   ]
  },
  {
   "cell_type": "code",
   "execution_count": 29,
   "metadata": {},
   "outputs": [],
   "source": [
    "sample_orders = []"
   ]
  },
  {
   "cell_type": "code",
   "execution_count": null,
   "metadata": {},
   "outputs": [],
   "source": []
  }
 ],
 "metadata": {
  "kernelspec": {
   "display_name": "Python 3",
   "language": "python",
   "name": "python3"
  },
  "language_info": {
   "codemirror_mode": {
    "name": "ipython",
    "version": 3
   },
   "file_extension": ".py",
   "mimetype": "text/x-python",
   "name": "python",
   "nbconvert_exporter": "python",
   "pygments_lexer": "ipython3",
   "version": "3.12.4"
  }
 },
 "nbformat": 4,
 "nbformat_minor": 2
}
